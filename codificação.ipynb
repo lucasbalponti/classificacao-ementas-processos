{
 "cells": [
  {
   "cell_type": "code",
   "execution_count": 16,
   "metadata": {},
   "outputs": [],
   "source": [
    "import pandas as pd\n",
    "import pickle\n",
    "from transformers import AutoTokenizer"
   ]
  },
  {
   "cell_type": "code",
   "execution_count": 17,
   "metadata": {},
   "outputs": [],
   "source": [
    "# Abrindo o objeto dataframe\n",
    "with open(r'df-pre-processado.pickle', 'rb') as pickledfile:\n",
    "    df = pickle.load(pickledfile)"
   ]
  },
  {
   "cell_type": "code",
   "execution_count": 18,
   "metadata": {},
   "outputs": [],
   "source": [
    "# Iniciando um tokenizer pré-treinado para língua portuguesa: BERTimbal large\n",
    "tokenizer = AutoTokenizer.from_pretrained('neuralmind/bert-large-portuguese-cased')"
   ]
  },
  {
   "cell_type": "code",
   "execution_count": 19,
   "metadata": {},
   "outputs": [],
   "source": [
    "df['Codificadas'] = [tokenizer.encode(t) for t in df['Texto tratado']]"
   ]
  },
  {
   "cell_type": "code",
   "execution_count": 20,
   "metadata": {},
   "outputs": [
    {
     "data": {
      "text/html": [
       "<div>\n",
       "<style scoped>\n",
       "    .dataframe tbody tr th:only-of-type {\n",
       "        vertical-align: middle;\n",
       "    }\n",
       "\n",
       "    .dataframe tbody tr th {\n",
       "        vertical-align: top;\n",
       "    }\n",
       "\n",
       "    .dataframe thead th {\n",
       "        text-align: right;\n",
       "    }\n",
       "</style>\n",
       "<table border=\"1\" class=\"dataframe\">\n",
       "  <thead>\n",
       "    <tr style=\"text-align: right;\">\n",
       "      <th></th>\n",
       "      <th>Assunto</th>\n",
       "      <th>Texto original</th>\n",
       "      <th>Texto semi-tratado</th>\n",
       "      <th>Texto tratado</th>\n",
       "      <th>Codificadas</th>\n",
       "    </tr>\n",
       "  </thead>\n",
       "  <tbody>\n",
       "    <tr>\n",
       "      <th>0</th>\n",
       "      <td>Direito Tributário</td>\n",
       "      <td>\\nEmenta: * IMPOSTO - Propriedade Predial e Te...</td>\n",
       "      <td>* IMPOSTO - Propriedade Predial e Territorial ...</td>\n",
       "      <td>* IMPOSTO - Propriedade Predial e Territorial ...</td>\n",
       "      <td>[101, 115, 290, 11881, 6072, 15349, 118, 1072,...</td>\n",
       "    </tr>\n",
       "    <tr>\n",
       "      <th>1</th>\n",
       "      <td>Direito Tributário</td>\n",
       "      <td>\\nEmenta: ACÓRDÃO\\nMANDADO DE SEGURANÇA - IPTU...</td>\n",
       "      <td>ACÓRDÃO MANDADO DE SEGURANÇA - IPTU - Progress...</td>\n",
       "      <td>ACÓRDÃO MANDADO DE SEGURANÇA - IPTU - Progress...</td>\n",
       "      <td>[101, 11247, 22369, 22322, 22319, 16484, 18471...</td>\n",
       "    </tr>\n",
       "    <tr>\n",
       "      <th>2</th>\n",
       "      <td>Direito Tributário</td>\n",
       "      <td>\\nEmenta: da função social do imóvel para se t...</td>\n",
       "      <td>da função social do imóvel para se tornar um t...</td>\n",
       "      <td>da função social do imóvel para se tornar um t...</td>\n",
       "      <td>[101, 180, 2403, 1979, 171, 16068, 221, 176, 2...</td>\n",
       "    </tr>\n",
       "    <tr>\n",
       "      <th>3</th>\n",
       "      <td>Direito Tributário</td>\n",
       "      <td>\\nEmenta: ACÓRDÃO\\nAGRAVO DE INSTRUMENTO - INT...</td>\n",
       "      <td>ACÓRDÃO AGRAVO DE INSTRUMENTO - INTERPOSIÇÃO C...</td>\n",
       "      <td>ACÓRDÃO AGRAVO DE INSTRUMENTO - INTERPOSIÇÃO C...</td>\n",
       "      <td>[101, 11247, 22369, 22322, 22319, 16484, 177, ...</td>\n",
       "    </tr>\n",
       "    <tr>\n",
       "      <th>4</th>\n",
       "      <td>Direito Tributário</td>\n",
       "      <td>\\n\\n\\t\\t\\t\\t\\t\\t\\t\\t\\t\\t\\t\\t\\tEmenta:\\n\\t\\t\\t\\...</td>\n",
       "      <td>IMPOSTO. Predial e Territorial Urbano. Municíp...</td>\n",
       "      <td>IMPOSTO. Predial e Territorial Urbano. Municíp...</td>\n",
       "      <td>[101, 290, 11881, 6072, 15349, 119, 4407, 679,...</td>\n",
       "    </tr>\n",
       "  </tbody>\n",
       "</table>\n",
       "</div>"
      ],
      "text/plain": [
       "              Assunto                                     Texto original  \\\n",
       "0  Direito Tributário  \\nEmenta: * IMPOSTO - Propriedade Predial e Te...   \n",
       "1  Direito Tributário  \\nEmenta: ACÓRDÃO\\nMANDADO DE SEGURANÇA - IPTU...   \n",
       "2  Direito Tributário  \\nEmenta: da função social do imóvel para se t...   \n",
       "3  Direito Tributário  \\nEmenta: ACÓRDÃO\\nAGRAVO DE INSTRUMENTO - INT...   \n",
       "4  Direito Tributário  \\n\\n\\t\\t\\t\\t\\t\\t\\t\\t\\t\\t\\t\\t\\tEmenta:\\n\\t\\t\\t\\...   \n",
       "\n",
       "                                  Texto semi-tratado  \\\n",
       "0  * IMPOSTO - Propriedade Predial e Territorial ...   \n",
       "1  ACÓRDÃO MANDADO DE SEGURANÇA - IPTU - Progress...   \n",
       "2  da função social do imóvel para se tornar um t...   \n",
       "3  ACÓRDÃO AGRAVO DE INSTRUMENTO - INTERPOSIÇÃO C...   \n",
       "4  IMPOSTO. Predial e Territorial Urbano. Municíp...   \n",
       "\n",
       "                                       Texto tratado  \\\n",
       "0  * IMPOSTO - Propriedade Predial e Territorial ...   \n",
       "1  ACÓRDÃO MANDADO DE SEGURANÇA - IPTU - Progress...   \n",
       "2  da função social do imóvel para se tornar um t...   \n",
       "3  ACÓRDÃO AGRAVO DE INSTRUMENTO - INTERPOSIÇÃO C...   \n",
       "4  IMPOSTO. Predial e Territorial Urbano. Municíp...   \n",
       "\n",
       "                                         Codificadas  \n",
       "0  [101, 115, 290, 11881, 6072, 15349, 118, 1072,...  \n",
       "1  [101, 11247, 22369, 22322, 22319, 16484, 18471...  \n",
       "2  [101, 180, 2403, 1979, 171, 16068, 221, 176, 2...  \n",
       "3  [101, 11247, 22369, 22322, 22319, 16484, 177, ...  \n",
       "4  [101, 290, 11881, 6072, 15349, 119, 4407, 679,...  "
      ]
     },
     "execution_count": 20,
     "metadata": {},
     "output_type": "execute_result"
    }
   ],
   "source": [
    "df.head()"
   ]
  },
  {
   "cell_type": "code",
   "execution_count": 21,
   "metadata": {},
   "outputs": [],
   "source": [
    "# Salvando o objeto dataframe\n",
    "with open(r'df-codificado.pickle', 'wb') as picklefile:\n",
    "    pickle.dump(df, picklefile, protocol=pickle.HIGHEST_PROTOCOL)"
   ]
  }
 ],
 "metadata": {
  "kernelspec": {
   "display_name": "Python 3",
   "language": "python",
   "name": "python3"
  },
  "language_info": {
   "codemirror_mode": {
    "name": "ipython",
    "version": 3
   },
   "file_extension": ".py",
   "mimetype": "text/x-python",
   "name": "python",
   "nbconvert_exporter": "python",
   "pygments_lexer": "ipython3",
   "version": "3.11.3"
  }
 },
 "nbformat": 4,
 "nbformat_minor": 2
}
