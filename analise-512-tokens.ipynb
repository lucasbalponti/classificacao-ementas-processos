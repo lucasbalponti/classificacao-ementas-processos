{
 "cells": [
  {
   "cell_type": "code",
   "execution_count": 1,
   "metadata": {},
   "outputs": [],
   "source": [
    "import pandas as pd\n",
    "import pickle"
   ]
  },
  {
   "cell_type": "code",
   "execution_count": 2,
   "metadata": {},
   "outputs": [],
   "source": [
    "# Abrindo o objeto dataframe\n",
    "with open(r'df-novos400-result.pickle', 'rb') as pickledfile:\n",
    "    df = pickle.load(pickledfile)"
   ]
  },
  {
   "cell_type": "code",
   "execution_count": 3,
   "metadata": {},
   "outputs": [
    {
     "data": {
      "text/html": [
       "<div>\n",
       "<style scoped>\n",
       "    .dataframe tbody tr th:only-of-type {\n",
       "        vertical-align: middle;\n",
       "    }\n",
       "\n",
       "    .dataframe tbody tr th {\n",
       "        vertical-align: top;\n",
       "    }\n",
       "\n",
       "    .dataframe thead th {\n",
       "        text-align: right;\n",
       "    }\n",
       "</style>\n",
       "<table border=\"1\" class=\"dataframe\">\n",
       "  <thead>\n",
       "    <tr style=\"text-align: right;\">\n",
       "      <th></th>\n",
       "      <th>index</th>\n",
       "      <th>Assunto</th>\n",
       "      <th>Texto original</th>\n",
       "      <th>Texto semi-tratado</th>\n",
       "      <th>Existe</th>\n",
       "      <th>Texto tratado</th>\n",
       "      <th>Tokenizadas</th>\n",
       "      <th>id_categ</th>\n",
       "      <th>n_tokens</th>\n",
       "      <th>n_uniq_tokens</th>\n",
       "      <th>result_bow</th>\n",
       "      <th>result_tfidf</th>\n",
       "      <th>result-bert-rf</th>\n",
       "      <th>result-bert</th>\n",
       "      <th>logits-bert</th>\n",
       "    </tr>\n",
       "  </thead>\n",
       "  <tbody>\n",
       "    <tr>\n",
       "      <th>0</th>\n",
       "      <td>0</td>\n",
       "      <td>Direito Tributário</td>\n",
       "      <td>\\n\\n\\t\\t\\t\\t\\t\\t\\t\\t\\t\\t\\t\\t\\tEmenta:\\n\\t\\t\\t\\...</td>\n",
       "      <td>EMBARGOS DE DECLARAÇÃO – Alegação de omissão e...</td>\n",
       "      <td>0</td>\n",
       "      <td>EMBARGOS DE DECLARAÇÃO – Alegação de omissão e...</td>\n",
       "      <td>[101, 192, 17166, 6765, 17807, 22308, 10836, 1...</td>\n",
       "      <td>0</td>\n",
       "      <td>99</td>\n",
       "      <td>82</td>\n",
       "      <td>Direito Previdenciário</td>\n",
       "      <td>Direito Previdenciário</td>\n",
       "      <td>Direito Previdenciário</td>\n",
       "      <td>Direito Previdenciário</td>\n",
       "      <td>[{'label': 'LABEL_2', 'score': 0.9987806677818...</td>\n",
       "    </tr>\n",
       "    <tr>\n",
       "      <th>1</th>\n",
       "      <td>1</td>\n",
       "      <td>Direito Tributário</td>\n",
       "      <td>\\nEmenta: APELAÇÃO –  Execução Fiscal –  Multa...</td>\n",
       "      <td>APELAÇÃO – Execução Fiscal – Multa Administrat...</td>\n",
       "      <td>0</td>\n",
       "      <td>APELAÇÃO – Execução Fiscal – Multa Administrat...</td>\n",
       "      <td>[101, 12127, 9008, 22301, 22402, 16484, 1379, ...</td>\n",
       "      <td>1</td>\n",
       "      <td>217</td>\n",
       "      <td>149</td>\n",
       "      <td>Direito Tributário</td>\n",
       "      <td>Direito Tributário</td>\n",
       "      <td>Direito Tributário</td>\n",
       "      <td>Direito Tributário</td>\n",
       "      <td>[{'label': 'LABEL_3', 'score': 0.9997418522834...</td>\n",
       "    </tr>\n",
       "    <tr>\n",
       "      <th>2</th>\n",
       "      <td>2</td>\n",
       "      <td>Direito Tributário</td>\n",
       "      <td>\\nEmenta: EMBARGOS DE DECLARAÇÃO\\r\\nAlegação d...</td>\n",
       "      <td>EMBARGOS DE DECLARAÇÃO Alegação de omissão – I...</td>\n",
       "      <td>0</td>\n",
       "      <td>EMBARGOS DE DECLARAÇÃO Alegação de omissão – I...</td>\n",
       "      <td>[101, 192, 17166, 6765, 17807, 22308, 10836, 1...</td>\n",
       "      <td>2</td>\n",
       "      <td>123</td>\n",
       "      <td>90</td>\n",
       "      <td>Direito Tributário</td>\n",
       "      <td>Direito Tributário</td>\n",
       "      <td>Direito Tributário</td>\n",
       "      <td>Direito Previdenciário</td>\n",
       "      <td>[{'label': 'LABEL_2', 'score': 0.7974733114242...</td>\n",
       "    </tr>\n",
       "    <tr>\n",
       "      <th>3</th>\n",
       "      <td>3</td>\n",
       "      <td>Direito Tributário</td>\n",
       "      <td>\\nEmenta: APELAÇÃO CÍVEL –  Mandado de Seguran...</td>\n",
       "      <td>APELAÇÃO CÍVEL – Mandado de Segurança – ITBI –...</td>\n",
       "      <td>0</td>\n",
       "      <td>APELAÇÃO CÍVEL – Mandado de Segurança – ITBI –...</td>\n",
       "      <td>[101, 12127, 9008, 22301, 22402, 16484, 187, 2...</td>\n",
       "      <td>3</td>\n",
       "      <td>167</td>\n",
       "      <td>129</td>\n",
       "      <td>Direito Tributário</td>\n",
       "      <td>Direito Tributário</td>\n",
       "      <td>Direito Previdenciário</td>\n",
       "      <td>Direito Tributário</td>\n",
       "      <td>[{'label': 'LABEL_3', 'score': 0.9880988001823...</td>\n",
       "    </tr>\n",
       "    <tr>\n",
       "      <th>4</th>\n",
       "      <td>4</td>\n",
       "      <td>Direito Tributário</td>\n",
       "      <td>\\nEmenta: AGRAVO DE INSTRUMENTO –  Execução fi...</td>\n",
       "      <td>AGRAVO DE INSTRUMENTO – Execução fiscal – Exce...</td>\n",
       "      <td>0</td>\n",
       "      <td>AGRAVO DE INSTRUMENTO – Execução fiscal – Exce...</td>\n",
       "      <td>[101, 177, 22328, 5650, 22339, 22317, 10836, 1...</td>\n",
       "      <td>4</td>\n",
       "      <td>143</td>\n",
       "      <td>114</td>\n",
       "      <td>Direito Tributário</td>\n",
       "      <td>Direito Tributário</td>\n",
       "      <td>Direito Tributário</td>\n",
       "      <td>Direito Tributário</td>\n",
       "      <td>[{'label': 'LABEL_3', 'score': 0.9996102452278...</td>\n",
       "    </tr>\n",
       "  </tbody>\n",
       "</table>\n",
       "</div>"
      ],
      "text/plain": [
       "   index             Assunto  \\\n",
       "0      0  Direito Tributário   \n",
       "1      1  Direito Tributário   \n",
       "2      2  Direito Tributário   \n",
       "3      3  Direito Tributário   \n",
       "4      4  Direito Tributário   \n",
       "\n",
       "                                      Texto original  \\\n",
       "0  \\n\\n\\t\\t\\t\\t\\t\\t\\t\\t\\t\\t\\t\\t\\tEmenta:\\n\\t\\t\\t\\...   \n",
       "1  \\nEmenta: APELAÇÃO –  Execução Fiscal –  Multa...   \n",
       "2  \\nEmenta: EMBARGOS DE DECLARAÇÃO\\r\\nAlegação d...   \n",
       "3  \\nEmenta: APELAÇÃO CÍVEL –  Mandado de Seguran...   \n",
       "4  \\nEmenta: AGRAVO DE INSTRUMENTO –  Execução fi...   \n",
       "\n",
       "                                  Texto semi-tratado  Existe  \\\n",
       "0  EMBARGOS DE DECLARAÇÃO – Alegação de omissão e...       0   \n",
       "1  APELAÇÃO – Execução Fiscal – Multa Administrat...       0   \n",
       "2  EMBARGOS DE DECLARAÇÃO Alegação de omissão – I...       0   \n",
       "3  APELAÇÃO CÍVEL – Mandado de Segurança – ITBI –...       0   \n",
       "4  AGRAVO DE INSTRUMENTO – Execução fiscal – Exce...       0   \n",
       "\n",
       "                                       Texto tratado  \\\n",
       "0  EMBARGOS DE DECLARAÇÃO – Alegação de omissão e...   \n",
       "1  APELAÇÃO – Execução Fiscal – Multa Administrat...   \n",
       "2  EMBARGOS DE DECLARAÇÃO Alegação de omissão – I...   \n",
       "3  APELAÇÃO CÍVEL – Mandado de Segurança – ITBI –...   \n",
       "4  AGRAVO DE INSTRUMENTO – Execução fiscal – Exce...   \n",
       "\n",
       "                                         Tokenizadas  id_categ  n_tokens  \\\n",
       "0  [101, 192, 17166, 6765, 17807, 22308, 10836, 1...         0        99   \n",
       "1  [101, 12127, 9008, 22301, 22402, 16484, 1379, ...         1       217   \n",
       "2  [101, 192, 17166, 6765, 17807, 22308, 10836, 1...         2       123   \n",
       "3  [101, 12127, 9008, 22301, 22402, 16484, 187, 2...         3       167   \n",
       "4  [101, 177, 22328, 5650, 22339, 22317, 10836, 1...         4       143   \n",
       "\n",
       "   n_uniq_tokens              result_bow            result_tfidf  \\\n",
       "0             82  Direito Previdenciário  Direito Previdenciário   \n",
       "1            149      Direito Tributário      Direito Tributário   \n",
       "2             90      Direito Tributário      Direito Tributário   \n",
       "3            129      Direito Tributário      Direito Tributário   \n",
       "4            114      Direito Tributário      Direito Tributário   \n",
       "\n",
       "           result-bert-rf             result-bert  \\\n",
       "0  Direito Previdenciário  Direito Previdenciário   \n",
       "1      Direito Tributário      Direito Tributário   \n",
       "2      Direito Tributário  Direito Previdenciário   \n",
       "3  Direito Previdenciário      Direito Tributário   \n",
       "4      Direito Tributário      Direito Tributário   \n",
       "\n",
       "                                         logits-bert  \n",
       "0  [{'label': 'LABEL_2', 'score': 0.9987806677818...  \n",
       "1  [{'label': 'LABEL_3', 'score': 0.9997418522834...  \n",
       "2  [{'label': 'LABEL_2', 'score': 0.7974733114242...  \n",
       "3  [{'label': 'LABEL_3', 'score': 0.9880988001823...  \n",
       "4  [{'label': 'LABEL_3', 'score': 0.9996102452278...  "
      ]
     },
     "execution_count": 3,
     "metadata": {},
     "output_type": "execute_result"
    }
   ],
   "source": [
    "df.head()"
   ]
  },
  {
   "cell_type": "code",
   "execution_count": 7,
   "metadata": {},
   "outputs": [],
   "source": [
    "df['acerto-bow'] = [1 if x == y else 0 for x,y in zip(df['Assunto'], df['result_bow'])]\n",
    "df['acerto-tfidf'] = [1 if x == y else 0 for x,y in zip(df['Assunto'], df['result_tfidf'])]\n",
    "df['acerto-bert-rf'] = [1 if x == y else 0 for x,y in zip(df['Assunto'], df['result-bert-rf'])]\n",
    "df['acerto-bert'] = [1 if x == y else 0 for x,y in zip(df['Assunto'], df['result-bert'])]"
   ]
  },
  {
   "cell_type": "code",
   "execution_count": 8,
   "metadata": {},
   "outputs": [],
   "source": [
    "df['ate_512'] = [1 if elem<=512 else 0 for elem in df['n_tokens']]"
   ]
  },
  {
   "cell_type": "code",
   "execution_count": 15,
   "metadata": {},
   "outputs": [
    {
     "data": {
      "text/html": [
       "<div>\n",
       "<style scoped>\n",
       "    .dataframe tbody tr th:only-of-type {\n",
       "        vertical-align: middle;\n",
       "    }\n",
       "\n",
       "    .dataframe tbody tr th {\n",
       "        vertical-align: top;\n",
       "    }\n",
       "\n",
       "    .dataframe thead th {\n",
       "        text-align: right;\n",
       "    }\n",
       "</style>\n",
       "<table border=\"1\" class=\"dataframe\">\n",
       "  <thead>\n",
       "    <tr style=\"text-align: right;\">\n",
       "      <th></th>\n",
       "      <th>acerto-bow</th>\n",
       "      <th>acerto-tfidf</th>\n",
       "      <th>acerto-bert-rf</th>\n",
       "      <th>acerto-bert</th>\n",
       "    </tr>\n",
       "    <tr>\n",
       "      <th>ate_512</th>\n",
       "      <th></th>\n",
       "      <th></th>\n",
       "      <th></th>\n",
       "      <th></th>\n",
       "    </tr>\n",
       "  </thead>\n",
       "  <tbody>\n",
       "    <tr>\n",
       "      <th>0</th>\n",
       "      <td>65</td>\n",
       "      <td>67</td>\n",
       "      <td>52</td>\n",
       "      <td>67</td>\n",
       "    </tr>\n",
       "    <tr>\n",
       "      <th>1</th>\n",
       "      <td>1559</td>\n",
       "      <td>1577</td>\n",
       "      <td>1412</td>\n",
       "      <td>1507</td>\n",
       "    </tr>\n",
       "  </tbody>\n",
       "</table>\n",
       "</div>"
      ],
      "text/plain": [
       "         acerto-bow  acerto-tfidf  acerto-bert-rf  acerto-bert\n",
       "ate_512                                                       \n",
       "0                65            67              52           67\n",
       "1              1559          1577            1412         1507"
      ]
     },
     "execution_count": 15,
     "metadata": {},
     "output_type": "execute_result"
    }
   ],
   "source": [
    "df.groupby(['ate_512'])[['acerto-bow', 'acerto-tfidf', 'acerto-bert-rf', 'acerto-bert']].sum()"
   ]
  },
  {
   "cell_type": "code",
   "execution_count": 17,
   "metadata": {},
   "outputs": [
    {
     "data": {
      "text/plain": [
       "0.812"
      ]
     },
     "execution_count": 17,
     "metadata": {},
     "output_type": "execute_result"
    }
   ],
   "source": [
    "df['acerto-bow'].sum()/df['acerto-bow'].count()"
   ]
  },
  {
   "cell_type": "code",
   "execution_count": 18,
   "metadata": {},
   "outputs": [
    {
     "data": {
      "text/plain": [
       "0.822"
      ]
     },
     "execution_count": 18,
     "metadata": {},
     "output_type": "execute_result"
    }
   ],
   "source": [
    "df['acerto-tfidf'].sum()/df['acerto-tfidf'].count()"
   ]
  },
  {
   "cell_type": "code",
   "execution_count": 19,
   "metadata": {},
   "outputs": [
    {
     "data": {
      "text/plain": [
       "0.732"
      ]
     },
     "execution_count": 19,
     "metadata": {},
     "output_type": "execute_result"
    }
   ],
   "source": [
    "df['acerto-bert-rf'].sum()/df['acerto-bert-rf'].count()"
   ]
  },
  {
   "cell_type": "code",
   "execution_count": 20,
   "metadata": {},
   "outputs": [
    {
     "data": {
      "text/plain": [
       "0.787"
      ]
     },
     "execution_count": 20,
     "metadata": {},
     "output_type": "execute_result"
    }
   ],
   "source": [
    "df['acerto-bert'].sum()/df['acerto-bert'].count()"
   ]
  },
  {
   "cell_type": "code",
   "execution_count": 21,
   "metadata": {},
   "outputs": [],
   "source": [
    "# Abrindo o objeto dataframe\n",
    "with open(r'df-novos-tokenizado.pickle', 'rb') as pickledfile:\n",
    "    df2 = pickle.load(pickledfile)"
   ]
  },
  {
   "cell_type": "code",
   "execution_count": 22,
   "metadata": {},
   "outputs": [
    {
     "data": {
      "text/html": [
       "<div>\n",
       "<style scoped>\n",
       "    .dataframe tbody tr th:only-of-type {\n",
       "        vertical-align: middle;\n",
       "    }\n",
       "\n",
       "    .dataframe tbody tr th {\n",
       "        vertical-align: top;\n",
       "    }\n",
       "\n",
       "    .dataframe thead th {\n",
       "        text-align: right;\n",
       "    }\n",
       "</style>\n",
       "<table border=\"1\" class=\"dataframe\">\n",
       "  <thead>\n",
       "    <tr style=\"text-align: right;\">\n",
       "      <th></th>\n",
       "      <th>Assunto</th>\n",
       "      <th>Texto original</th>\n",
       "      <th>Texto semi-tratado</th>\n",
       "      <th>Existe</th>\n",
       "      <th>Texto tratado</th>\n",
       "      <th>Tokenizadas</th>\n",
       "    </tr>\n",
       "  </thead>\n",
       "  <tbody>\n",
       "    <tr>\n",
       "      <th>0</th>\n",
       "      <td>Direito Tributário</td>\n",
       "      <td>\\n\\n\\t\\t\\t\\t\\t\\t\\t\\t\\t\\t\\t\\t\\tEmenta:\\n\\t\\t\\t\\...</td>\n",
       "      <td>EMBARGOS DE DECLARAÇÃO – Alegação de omissão e...</td>\n",
       "      <td>0</td>\n",
       "      <td>EMBARGOS DE DECLARAÇÃO – Alegação de omissão e...</td>\n",
       "      <td>[101, 192, 17166, 6765, 17807, 22308, 10836, 1...</td>\n",
       "    </tr>\n",
       "    <tr>\n",
       "      <th>1</th>\n",
       "      <td>Direito Tributário</td>\n",
       "      <td>\\nEmenta: APELAÇÃO –  Execução Fiscal –  Multa...</td>\n",
       "      <td>APELAÇÃO – Execução Fiscal – Multa Administrat...</td>\n",
       "      <td>0</td>\n",
       "      <td>APELAÇÃO – Execução Fiscal – Multa Administrat...</td>\n",
       "      <td>[101, 12127, 9008, 22301, 22402, 16484, 1379, ...</td>\n",
       "    </tr>\n",
       "    <tr>\n",
       "      <th>2</th>\n",
       "      <td>Direito Tributário</td>\n",
       "      <td>\\nEmenta: EMBARGOS DE DECLARAÇÃO\\r\\nAlegação d...</td>\n",
       "      <td>EMBARGOS DE DECLARAÇÃO Alegação de omissão – I...</td>\n",
       "      <td>0</td>\n",
       "      <td>EMBARGOS DE DECLARAÇÃO Alegação de omissão – I...</td>\n",
       "      <td>[101, 192, 17166, 6765, 17807, 22308, 10836, 1...</td>\n",
       "    </tr>\n",
       "    <tr>\n",
       "      <th>3</th>\n",
       "      <td>Direito Tributário</td>\n",
       "      <td>\\nEmenta: APELAÇÃO CÍVEL –  Mandado de Seguran...</td>\n",
       "      <td>APELAÇÃO CÍVEL – Mandado de Segurança – ITBI –...</td>\n",
       "      <td>0</td>\n",
       "      <td>APELAÇÃO CÍVEL – Mandado de Segurança – ITBI –...</td>\n",
       "      <td>[101, 12127, 9008, 22301, 22402, 16484, 187, 2...</td>\n",
       "    </tr>\n",
       "    <tr>\n",
       "      <th>4</th>\n",
       "      <td>Direito Tributário</td>\n",
       "      <td>\\nEmenta: AGRAVO DE INSTRUMENTO –  Execução fi...</td>\n",
       "      <td>AGRAVO DE INSTRUMENTO – Execução fiscal – Exce...</td>\n",
       "      <td>0</td>\n",
       "      <td>AGRAVO DE INSTRUMENTO – Execução fiscal – Exce...</td>\n",
       "      <td>[101, 177, 22328, 5650, 22339, 22317, 10836, 1...</td>\n",
       "    </tr>\n",
       "  </tbody>\n",
       "</table>\n",
       "</div>"
      ],
      "text/plain": [
       "              Assunto                                     Texto original  \\\n",
       "0  Direito Tributário  \\n\\n\\t\\t\\t\\t\\t\\t\\t\\t\\t\\t\\t\\t\\tEmenta:\\n\\t\\t\\t\\...   \n",
       "1  Direito Tributário  \\nEmenta: APELAÇÃO –  Execução Fiscal –  Multa...   \n",
       "2  Direito Tributário  \\nEmenta: EMBARGOS DE DECLARAÇÃO\\r\\nAlegação d...   \n",
       "3  Direito Tributário  \\nEmenta: APELAÇÃO CÍVEL –  Mandado de Seguran...   \n",
       "4  Direito Tributário  \\nEmenta: AGRAVO DE INSTRUMENTO –  Execução fi...   \n",
       "\n",
       "                                  Texto semi-tratado  Existe  \\\n",
       "0  EMBARGOS DE DECLARAÇÃO – Alegação de omissão e...       0   \n",
       "1  APELAÇÃO – Execução Fiscal – Multa Administrat...       0   \n",
       "2  EMBARGOS DE DECLARAÇÃO Alegação de omissão – I...       0   \n",
       "3  APELAÇÃO CÍVEL – Mandado de Segurança – ITBI –...       0   \n",
       "4  AGRAVO DE INSTRUMENTO – Execução fiscal – Exce...       0   \n",
       "\n",
       "                                       Texto tratado  \\\n",
       "0  EMBARGOS DE DECLARAÇÃO – Alegação de omissão e...   \n",
       "1  APELAÇÃO – Execução Fiscal – Multa Administrat...   \n",
       "2  EMBARGOS DE DECLARAÇÃO Alegação de omissão – I...   \n",
       "3  APELAÇÃO CÍVEL – Mandado de Segurança – ITBI –...   \n",
       "4  AGRAVO DE INSTRUMENTO – Execução fiscal – Exce...   \n",
       "\n",
       "                                         Tokenizadas  \n",
       "0  [101, 192, 17166, 6765, 17807, 22308, 10836, 1...  \n",
       "1  [101, 12127, 9008, 22301, 22402, 16484, 1379, ...  \n",
       "2  [101, 192, 17166, 6765, 17807, 22308, 10836, 1...  \n",
       "3  [101, 12127, 9008, 22301, 22402, 16484, 187, 2...  \n",
       "4  [101, 177, 22328, 5650, 22339, 22317, 10836, 1...  "
      ]
     },
     "execution_count": 22,
     "metadata": {},
     "output_type": "execute_result"
    }
   ],
   "source": [
    "df2.head()"
   ]
  },
  {
   "cell_type": "code",
   "execution_count": 23,
   "metadata": {},
   "outputs": [
    {
     "data": {
      "text/html": [
       "<div>\n",
       "<style scoped>\n",
       "    .dataframe tbody tr th:only-of-type {\n",
       "        vertical-align: middle;\n",
       "    }\n",
       "\n",
       "    .dataframe tbody tr th {\n",
       "        vertical-align: top;\n",
       "    }\n",
       "\n",
       "    .dataframe thead th {\n",
       "        text-align: right;\n",
       "    }\n",
       "</style>\n",
       "<table border=\"1\" class=\"dataframe\">\n",
       "  <thead>\n",
       "    <tr style=\"text-align: right;\">\n",
       "      <th></th>\n",
       "      <th>Texto original</th>\n",
       "      <th>Texto semi-tratado</th>\n",
       "      <th>Existe</th>\n",
       "      <th>Texto tratado</th>\n",
       "      <th>Tokenizadas</th>\n",
       "    </tr>\n",
       "    <tr>\n",
       "      <th>Assunto</th>\n",
       "      <th></th>\n",
       "      <th></th>\n",
       "      <th></th>\n",
       "      <th></th>\n",
       "      <th></th>\n",
       "    </tr>\n",
       "  </thead>\n",
       "  <tbody>\n",
       "    <tr>\n",
       "      <th>Direito Civil</th>\n",
       "      <td>1312</td>\n",
       "      <td>1312</td>\n",
       "      <td>1312</td>\n",
       "      <td>1312</td>\n",
       "      <td>1312</td>\n",
       "    </tr>\n",
       "    <tr>\n",
       "      <th>Direito Penal</th>\n",
       "      <td>918</td>\n",
       "      <td>918</td>\n",
       "      <td>918</td>\n",
       "      <td>918</td>\n",
       "      <td>918</td>\n",
       "    </tr>\n",
       "    <tr>\n",
       "      <th>Direito Previdenciário</th>\n",
       "      <td>2076</td>\n",
       "      <td>2076</td>\n",
       "      <td>2076</td>\n",
       "      <td>2076</td>\n",
       "      <td>2076</td>\n",
       "    </tr>\n",
       "    <tr>\n",
       "      <th>Direito Tributário</th>\n",
       "      <td>2700</td>\n",
       "      <td>2700</td>\n",
       "      <td>2700</td>\n",
       "      <td>2700</td>\n",
       "      <td>2700</td>\n",
       "    </tr>\n",
       "    <tr>\n",
       "      <th>Direito do Trabalho</th>\n",
       "      <td>891</td>\n",
       "      <td>891</td>\n",
       "      <td>891</td>\n",
       "      <td>891</td>\n",
       "      <td>891</td>\n",
       "    </tr>\n",
       "  </tbody>\n",
       "</table>\n",
       "</div>"
      ],
      "text/plain": [
       "                        Texto original  Texto semi-tratado  Existe  \\\n",
       "Assunto                                                              \n",
       "Direito Civil                     1312                1312    1312   \n",
       "Direito Penal                      918                 918     918   \n",
       "Direito Previdenciário            2076                2076    2076   \n",
       "Direito Tributário                2700                2700    2700   \n",
       "Direito do Trabalho                891                 891     891   \n",
       "\n",
       "                        Texto tratado  Tokenizadas  \n",
       "Assunto                                             \n",
       "Direito Civil                    1312         1312  \n",
       "Direito Penal                     918          918  \n",
       "Direito Previdenciário           2076         2076  \n",
       "Direito Tributário               2700         2700  \n",
       "Direito do Trabalho               891          891  "
      ]
     },
     "execution_count": 23,
     "metadata": {},
     "output_type": "execute_result"
    }
   ],
   "source": [
    "df2.groupby(['Assunto']).count()"
   ]
  }
 ],
 "metadata": {
  "kernelspec": {
   "display_name": "Python 3",
   "language": "python",
   "name": "python3"
  },
  "language_info": {
   "codemirror_mode": {
    "name": "ipython",
    "version": 3
   },
   "file_extension": ".py",
   "mimetype": "text/x-python",
   "name": "python",
   "nbconvert_exporter": "python",
   "pygments_lexer": "ipython3",
   "version": "3.11.3"
  }
 },
 "nbformat": 4,
 "nbformat_minor": 2
}
