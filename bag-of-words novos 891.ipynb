{
 "cells": [
  {
   "cell_type": "code",
   "execution_count": 1,
   "metadata": {},
   "outputs": [],
   "source": [
    "import pandas as pd\n",
    "import pickle\n",
    "\n",
    "import numpy as np\n",
    "\n",
    "from collections import Counter\n",
    "\n",
    "import progressbar"
   ]
  },
  {
   "cell_type": "code",
   "execution_count": 2,
   "metadata": {},
   "outputs": [],
   "source": [
    "# Abrindo o objeto dataframe\n",
    "with open(r'df-novos891-tokenizado.pickle', 'rb') as pickledfile:\n",
    "    df = pickle.load(pickledfile)"
   ]
  },
  {
   "cell_type": "code",
   "execution_count": 3,
   "metadata": {},
   "outputs": [],
   "source": [
    "# Abrindo o vocabulario-bow\n",
    "with open(r'vocabulario-bow.pickle', 'rb') as pickledfile:\n",
    "    Vocab = pickle.load(pickledfile)"
   ]
  },
  {
   "cell_type": "code",
   "execution_count": 4,
   "metadata": {},
   "outputs": [
    {
     "name": "stderr",
     "output_type": "stream",
     "text": [
      " [Elapsed Time: 0:00:00] |                                  | (ETA:  --:--:--) \r"
     ]
    },
    {
     "name": "stderr",
     "output_type": "stream",
     "text": [
      " [Elapsed Time: 0:00:18] |***********************************| (ETA:  0:00:00) \r"
     ]
    }
   ],
   "source": [
    "# Configurando a barra de progresso\n",
    "widgets = [' [',\n",
    "         progressbar.Timer(),\n",
    "         '] ',\n",
    "           progressbar.Bar('*'),' (',\n",
    "           progressbar.ETA(), ') ',\n",
    "          ]\n",
    "bar = progressbar.ProgressBar(maxval = len(df), widgets=widgets).start()\n",
    "\n",
    "matriz = []\n",
    "\n",
    "for i in range(len(df)):\n",
    "\n",
    "    contador = Counter(df['Tokenizadas'][i])\n",
    "\n",
    "    vetor = []\n",
    "\n",
    "    for palavra in Vocab:\n",
    "        if palavra in contador:\n",
    "            vetor.append(contador[palavra])\n",
    "        else:\n",
    "            vetor.append(0)\n",
    "    \n",
    "    matriz.append(vetor)\n",
    "\n",
    "    bar.update(i+1)"
   ]
  },
  {
   "cell_type": "code",
   "execution_count": 5,
   "metadata": {},
   "outputs": [],
   "source": [
    "# Salvando o objeto bow\n",
    "with open(r'bow-novos891.pickle', 'wb') as pickledfile:\n",
    "    pickle.dump(matriz, pickledfile, protocol=pickle.HIGHEST_PROTOCOL)"
   ]
  }
 ],
 "metadata": {
  "kernelspec": {
   "display_name": "Python 3",
   "language": "python",
   "name": "python3"
  },
  "language_info": {
   "codemirror_mode": {
    "name": "ipython",
    "version": 3
   },
   "file_extension": ".py",
   "mimetype": "text/x-python",
   "name": "python",
   "nbconvert_exporter": "python",
   "pygments_lexer": "ipython3",
   "version": "3.11.3"
  }
 },
 "nbformat": 4,
 "nbformat_minor": 2
}
