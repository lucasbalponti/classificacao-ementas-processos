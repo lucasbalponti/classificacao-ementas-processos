{
 "cells": [
  {
   "cell_type": "code",
   "execution_count": 156,
   "metadata": {},
   "outputs": [
    {
     "name": "stderr",
     "output_type": "stream",
     "text": [
      "[nltk_data] Downloading package stopwords to C:\\Users\\Lucas\n",
      "[nltk_data]     Alponti\\AppData\\Roaming\\nltk_data...\n",
      "[nltk_data]   Package stopwords is already up-to-date!\n"
     ]
    },
    {
     "data": {
      "text/plain": [
       "True"
      ]
     },
     "execution_count": 156,
     "metadata": {},
     "output_type": "execute_result"
    }
   ],
   "source": [
    "import pandas as pd\n",
    "import pickle\n",
    "from collections import Counter\n",
    "import nltk\n",
    "import re\n",
    "nltk.download('stopwords')"
   ]
  },
  {
   "cell_type": "code",
   "execution_count": 136,
   "metadata": {},
   "outputs": [],
   "source": [
    "with open(r'df-processado.pickle', 'rb') as picklefile:\n",
    "    df = pickle.load(picklefile)"
   ]
  },
  {
   "cell_type": "code",
   "execution_count": 137,
   "metadata": {},
   "outputs": [],
   "source": [
    "df = df[['Assunto', 'Texto tratado']]\n",
    "df.drop_duplicates(inplace=True)\n",
    "df.reset_index(inplace=True, drop=True)"
   ]
  },
  {
   "cell_type": "code",
   "execution_count": 138,
   "metadata": {},
   "outputs": [],
   "source": [
    "v = df['Texto tratado'].value_counts()\n",
    "repetidos = df[df['Texto tratado'].isin(v.index[v.gt(1)])]"
   ]
  },
  {
   "cell_type": "code",
   "execution_count": 139,
   "metadata": {},
   "outputs": [],
   "source": [
    "df.drop(list(repetidos.index), axis=0, inplace=True)\n",
    "df.reset_index(drop=True, inplace=True)"
   ]
  },
  {
   "cell_type": "code",
   "execution_count": 140,
   "metadata": {},
   "outputs": [],
   "source": [
    "df['Tokenizadas'] = [str(t).split() for t in df['Texto tratado']]"
   ]
  },
  {
   "cell_type": "code",
   "execution_count": 141,
   "metadata": {},
   "outputs": [],
   "source": [
    "stopwords = nltk.corpus.stopwords.words('portuguese')"
   ]
  },
  {
   "cell_type": "code",
   "execution_count": 142,
   "metadata": {},
   "outputs": [],
   "source": [
    "dict_stopwords = Counter(stopwords)"
   ]
  },
  {
   "cell_type": "code",
   "execution_count": 143,
   "metadata": {},
   "outputs": [],
   "source": [
    "for i in range(len(df)):\n",
    "    df['Tokenizadas'][i] = [t for t in df['Tokenizadas'][i] if dict_stopwords[t]==0 and len(t)>2]"
   ]
  },
  {
   "cell_type": "code",
   "execution_count": 144,
   "metadata": {},
   "outputs": [
    {
     "data": {
      "text/plain": [
       "0        [recursos, extraordinários, apelaç, comarca, s...\n",
       "1        [imposto, propriedade, predial, territorial, u...\n",
       "2        [acórdão, tributo, imposto, predial, territori...\n",
       "3        [acórdão, mandado, segurança, iptu, progressiv...\n",
       "4        [função, social, imóvel, tornar, tributo, natu...\n",
       "                               ...                        \n",
       "81407    [indenizatória, contexto, probatório, enseja, ...\n",
       "81408    [acórdão, processo, ação, indenizatóría, afast...\n",
       "81409    [penhora, direito, preferência, anterioridade,...\n",
       "81410    [agravo, instrumento, ação, indenização, fase,...\n",
       "81411    [vistos, relatados, discutidos, autos, apelaçã...\n",
       "Name: Tokenizadas, Length: 81412, dtype: object"
      ]
     },
     "execution_count": 144,
     "metadata": {},
     "output_type": "execute_result"
    }
   ],
   "source": [
    "df['Tokenizadas']"
   ]
  },
  {
   "cell_type": "code",
   "execution_count": 145,
   "metadata": {},
   "outputs": [],
   "source": [
    "lista_palavras = []\n",
    "for row in df['Texto tratado']:\n",
    "    for word in str(row).split():\n",
    "        lista_palavras.append(word)\n",
    "\n",
    "counts = Counter(lista_palavras)"
   ]
  },
  {
   "cell_type": "code",
   "execution_count": 146,
   "metadata": {},
   "outputs": [],
   "source": [
    "lista_pouco_comuns = [elem for elem in counts.most_common() if elem[1]<=10]"
   ]
  },
  {
   "cell_type": "code",
   "execution_count": 147,
   "metadata": {},
   "outputs": [
    {
     "data": {
      "text/plain": [
       "1.5207713697611012"
      ]
     },
     "execution_count": 147,
     "metadata": {},
     "output_type": "execute_result"
    }
   ],
   "source": [
    "100*len(lista_pouco_comuns)/len(lista_palavras)"
   ]
  },
  {
   "cell_type": "code",
   "execution_count": 148,
   "metadata": {},
   "outputs": [],
   "source": [
    "for i in range(len(df)):\n",
    "    df['Tokenizadas'][i] = [t for t in df['Tokenizadas'][i] if counts[t]>10]"
   ]
  },
  {
   "cell_type": "code",
   "execution_count": 149,
   "metadata": {},
   "outputs": [
    {
     "data": {
      "text/html": [
       "<div>\n",
       "<style scoped>\n",
       "    .dataframe tbody tr th:only-of-type {\n",
       "        vertical-align: middle;\n",
       "    }\n",
       "\n",
       "    .dataframe tbody tr th {\n",
       "        vertical-align: top;\n",
       "    }\n",
       "\n",
       "    .dataframe thead th {\n",
       "        text-align: right;\n",
       "    }\n",
       "</style>\n",
       "<table border=\"1\" class=\"dataframe\">\n",
       "  <thead>\n",
       "    <tr style=\"text-align: right;\">\n",
       "      <th></th>\n",
       "      <th>Assunto</th>\n",
       "      <th>Texto tratado</th>\n",
       "      <th>Tokenizadas</th>\n",
       "    </tr>\n",
       "  </thead>\n",
       "  <tbody>\n",
       "    <tr>\n",
       "      <th>0</th>\n",
       "      <td>Direito Tributário</td>\n",
       "      <td>recursos extraordinários ma apelaç ne ô í coma...</td>\n",
       "      <td>[recursos, extraordinários, apelaç, comarca, s...</td>\n",
       "    </tr>\n",
       "    <tr>\n",
       "      <th>1</th>\n",
       "      <td>Direito Tributário</td>\n",
       "      <td>imposto propriedade predial e territorial urba...</td>\n",
       "      <td>[imposto, propriedade, predial, territorial, u...</td>\n",
       "    </tr>\n",
       "    <tr>\n",
       "      <th>2</th>\n",
       "      <td>Direito Tributário</td>\n",
       "      <td>acórdão tributo imposto predial e territorial ...</td>\n",
       "      <td>[acórdão, tributo, imposto, predial, territori...</td>\n",
       "    </tr>\n",
       "    <tr>\n",
       "      <th>3</th>\n",
       "      <td>Direito Tributário</td>\n",
       "      <td>acórdão mandado de segurança iptu progressivid...</td>\n",
       "      <td>[acórdão, mandado, segurança, iptu, progressiv...</td>\n",
       "    </tr>\n",
       "    <tr>\n",
       "      <th>4</th>\n",
       "      <td>Direito Tributário</td>\n",
       "      <td>da função social do imóvel para se tornar um t...</td>\n",
       "      <td>[função, social, imóvel, tornar, tributo, natu...</td>\n",
       "    </tr>\n",
       "    <tr>\n",
       "      <th>...</th>\n",
       "      <td>...</td>\n",
       "      <td>...</td>\n",
       "      <td>...</td>\n",
       "    </tr>\n",
       "    <tr>\n",
       "      <th>81407</th>\n",
       "      <td>Direito Civil</td>\n",
       "      <td>indenizatória contexto probatório que enseja o...</td>\n",
       "      <td>[indenizatória, contexto, probatório, enseja, ...</td>\n",
       "    </tr>\n",
       "    <tr>\n",
       "      <th>81408</th>\n",
       "      <td>Direito Civil</td>\n",
       "      <td>acórdão processo ação indenizatóría afastada a...</td>\n",
       "      <td>[acórdão, processo, ação, indenizatóría, afast...</td>\n",
       "    </tr>\n",
       "    <tr>\n",
       "      <th>81409</th>\n",
       "      <td>Direito Civil</td>\n",
       "      <td>penhora direito de preferência anterioridade d...</td>\n",
       "      <td>[penhora, direito, preferência, anterioridade,...</td>\n",
       "    </tr>\n",
       "    <tr>\n",
       "      <th>81410</th>\n",
       "      <td>Direito Civil</td>\n",
       "      <td>agravo df instrumento ação de indenização em f...</td>\n",
       "      <td>[agravo, instrumento, ação, indenização, fase,...</td>\n",
       "    </tr>\n",
       "    <tr>\n",
       "      <th>81411</th>\n",
       "      <td>Direito Civil</td>\n",
       "      <td>vistos relatados e discutidos estes autos de a...</td>\n",
       "      <td>[vistos, relatados, discutidos, autos, apelaçã...</td>\n",
       "    </tr>\n",
       "  </tbody>\n",
       "</table>\n",
       "<p>81412 rows × 3 columns</p>\n",
       "</div>"
      ],
      "text/plain": [
       "                  Assunto                                      Texto tratado  \\\n",
       "0      Direito Tributário  recursos extraordinários ma apelaç ne ô í coma...   \n",
       "1      Direito Tributário  imposto propriedade predial e territorial urba...   \n",
       "2      Direito Tributário  acórdão tributo imposto predial e territorial ...   \n",
       "3      Direito Tributário  acórdão mandado de segurança iptu progressivid...   \n",
       "4      Direito Tributário  da função social do imóvel para se tornar um t...   \n",
       "...                   ...                                                ...   \n",
       "81407       Direito Civil  indenizatória contexto probatório que enseja o...   \n",
       "81408       Direito Civil  acórdão processo ação indenizatóría afastada a...   \n",
       "81409       Direito Civil  penhora direito de preferência anterioridade d...   \n",
       "81410       Direito Civil  agravo df instrumento ação de indenização em f...   \n",
       "81411       Direito Civil  vistos relatados e discutidos estes autos de a...   \n",
       "\n",
       "                                             Tokenizadas  \n",
       "0      [recursos, extraordinários, apelaç, comarca, s...  \n",
       "1      [imposto, propriedade, predial, territorial, u...  \n",
       "2      [acórdão, tributo, imposto, predial, territori...  \n",
       "3      [acórdão, mandado, segurança, iptu, progressiv...  \n",
       "4      [função, social, imóvel, tornar, tributo, natu...  \n",
       "...                                                  ...  \n",
       "81407  [indenizatória, contexto, probatório, enseja, ...  \n",
       "81408  [acórdão, processo, ação, indenizatóría, afast...  \n",
       "81409  [penhora, direito, preferência, anterioridade,...  \n",
       "81410  [agravo, instrumento, ação, indenização, fase,...  \n",
       "81411  [vistos, relatados, discutidos, autos, apelaçã...  \n",
       "\n",
       "[81412 rows x 3 columns]"
      ]
     },
     "execution_count": 149,
     "metadata": {},
     "output_type": "execute_result"
    }
   ],
   "source": [
    "df"
   ]
  },
  {
   "cell_type": "code",
   "execution_count": 162,
   "metadata": {},
   "outputs": [],
   "source": [
    "lista_palavras2 = []\n",
    "for row in df['Tokenizadas']:\n",
    "    for word in row:\n",
    "        lista_palavras2.append(word)\n",
    "\n",
    "counts2 = Counter(lista_palavras2)"
   ]
  },
  {
   "cell_type": "code",
   "execution_count": 186,
   "metadata": {},
   "outputs": [],
   "source": [
    "lista_palavras2_corrigir = [t for t in lista_palavras2 if re.search(r'[\\^~´`]|ã$|ç$', t)]\n",
    "lista_palavras2_corrigir = list(set(lista_palavras2_corrigir))"
   ]
  },
  {
   "cell_type": "code",
   "execution_count": 188,
   "metadata": {},
   "outputs": [],
   "source": [
    "lista_palavras2_corrigir.remove('manhã')\n",
    "lista_palavras2_corrigir.remove('mairiporã')\n",
    "lista_palavras2_corrigir.remove('irmã')\n",
    "lista_palavras2_corrigir.remove('guardiã')"
   ]
  },
  {
   "cell_type": "code",
   "execution_count": 191,
   "metadata": {},
   "outputs": [],
   "source": [
    "dict_corrigir = Counter(lista_palavras2_corrigir)\n",
    "\n",
    "for i in range(len(df)):\n",
    "    df['Tokenizadas'][i] = [t for t in df['Tokenizadas'][i] if dict_corrigir[t]==0 and len(t)>2]"
   ]
  },
  {
   "cell_type": "code",
   "execution_count": 199,
   "metadata": {},
   "outputs": [],
   "source": [
    "df.drop(df[df['Tokenizadas'].apply(lambda x: len(str(x))==0)].index, axis=0, inplace=True)\n",
    "df.reset_index(drop=True, inplace=True)"
   ]
  },
  {
   "cell_type": "code",
   "execution_count": 200,
   "metadata": {},
   "outputs": [],
   "source": [
    "with open(r'df-tokenizado.pickle', 'wb') as picklefile:\n",
    "    pickle.dump(df, picklefile, protocol=pickle.HIGHEST_PROTOCOL)"
   ]
  }
 ],
 "metadata": {
  "kernelspec": {
   "display_name": "Python 3",
   "language": "python",
   "name": "python3"
  },
  "language_info": {
   "codemirror_mode": {
    "name": "ipython",
    "version": 3
   },
   "file_extension": ".py",
   "mimetype": "text/x-python",
   "name": "python",
   "nbconvert_exporter": "python",
   "pygments_lexer": "ipython3",
   "version": "3.11.3"
  }
 },
 "nbformat": 4,
 "nbformat_minor": 2
}
