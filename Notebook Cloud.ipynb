{
 "cells": [
  {
   "cell_type": "code",
   "execution_count": 1,
   "id": "99f180df-34f9-4135-b45f-278160ff97ff",
   "metadata": {
    "tags": []
   },
   "outputs": [],
   "source": [
    "from transformers import AutoModelForSequenceClassification, TrainingArguments, Trainer\n",
    "\n",
    "import pickle\n",
    "\n",
    "import pandas as pd\n",
    "\n",
    "import numpy as np\n",
    "\n",
    "import evaluate\n",
    "\n",
    "import pyarrow as pa\n",
    "import pyarrow.dataset as ds\n",
    "from datasets import Dataset"
   ]
  },
  {
   "cell_type": "code",
   "execution_count": 2,
   "id": "bbe5811e-e929-4c95-8dfd-68205c3d60e4",
   "metadata": {
    "tags": []
   },
   "outputs": [],
   "source": [
    "# Abrindo o objeto dataframe\n",
    "with open(r'df-pre-processado-cloud2.pickle', 'rb') as pickledfile:\n",
    "    df = pickle.load(pickledfile)"
   ]
  },
  {
   "cell_type": "code",
   "execution_count": 3,
   "id": "e71ec997-c305-4645-b0d8-59a35aac80ef",
   "metadata": {},
   "outputs": [],
   "source": [
    "# Abrindo o objeto dataframe\n",
    "with open(r'lista-splits.pickle', 'rb') as pickledfile:\n",
    "    lista_splits = pickle.load(pickledfile)"
   ]
  },
  {
   "cell_type": "code",
   "execution_count": 4,
   "id": "2988416a-6fda-4210-942b-0d20454e2729",
   "metadata": {
    "tags": []
   },
   "outputs": [],
   "source": [
    "metric = evaluate.load(\"accuracy\")"
   ]
  },
  {
   "cell_type": "code",
   "execution_count": 5,
   "id": "705db427-44ce-4dc0-bac3-80d9cb8c2535",
   "metadata": {
    "tags": []
   },
   "outputs": [],
   "source": [
    "def compute_metrics(eval_pred):\n",
    "\n",
    "    logits, labels = eval_pred\n",
    "\n",
    "    predictions = np.argmax(logits, axis=-1)\n",
    "\n",
    "    return metric.compute(predictions=predictions, references=labels)"
   ]
  },
  {
   "cell_type": "code",
   "execution_count": 6,
   "id": "098dfd40-b3f2-4359-a7ce-18ac476fa802",
   "metadata": {
    "tags": []
   },
   "outputs": [
    {
     "name": "stderr",
     "output_type": "stream",
     "text": [
      "Some weights of BertForSequenceClassification were not initialized from the model checkpoint at neuralmind/bert-large-portuguese-cased and are newly initialized: ['classifier.bias', 'classifier.weight']\n",
      "You should probably TRAIN this model on a down-stream task to be able to use it for predictions and inference.\n"
     ]
    }
   ],
   "source": [
    "bertmodel = AutoModelForSequenceClassification.from_pretrained('neuralmind/bert-large-portuguese-cased', num_labels = 5)"
   ]
  },
  {
   "cell_type": "code",
   "execution_count": 8,
   "id": "7bb0721b-a5d2-493c-8013-639b36a2331c",
   "metadata": {
    "tags": []
   },
   "outputs": [],
   "source": [
    "training_args = TrainingArguments(output_dir=\"treino/split1\", eval_strategy=\"epoch\", use_cpu=False, no_cuda=False)\n",
    "\n",
    "t_ = lista_splits[0][1]\n",
    "v_ = lista_splits[0][2]\n",
    "\n",
    "df_teste = pd.DataFrame.from_dict(\n",
    "    {'input_ids': df.loc[t_, 'input_ids'], 'label': df.loc[t_, 'label'], 'attention_mask':df.loc[t_, 'attention_mask'] }\n",
    ")\n",
    "hg_dataset_teste = Dataset(pa.Table.from_pandas(df_teste))\n",
    "\n",
    "df_val = pd.DataFrame.from_dict(\n",
    "    {'input_ids': df.loc[v_, 'input_ids'], 'label': df.loc[v_, 'label'], 'attention_mask':df.loc[v_, 'attention_mask'] }\n",
    ")\n",
    "hg_dataset_val = Dataset(pa.Table.from_pandas(df_val))\n",
    "\n",
    "trainer = Trainer(\n",
    "    model=bertmodel,\n",
    "    args=training_args,\n",
    "    train_dataset=hg_dataset_teste,\n",
    "    eval_dataset=hg_dataset_val,\n",
    "    compute_metrics=compute_metrics\n",
    ")"
   ]
  },
  {
   "cell_type": "code",
   "execution_count": null,
   "id": "c83015cc-a09a-4bd0-a1f9-360e40a09804",
   "metadata": {
    "tags": []
   },
   "outputs": [
    {
     "data": {
      "text/html": [
       "\n",
       "    <div>\n",
       "      \n",
       "      <progress value='3885' max='25527' style='width:300px; height:20px; vertical-align: middle;'></progress>\n",
       "      [ 3885/25527 2:35:30 < 14:26:41, 0.42 it/s, Epoch 0.46/3]\n",
       "    </div>\n",
       "    <table border=\"1\" class=\"dataframe\">\n",
       "  <thead>\n",
       " <tr style=\"text-align: left;\">\n",
       "      <th>Epoch</th>\n",
       "      <th>Training Loss</th>\n",
       "      <th>Validation Loss</th>\n",
       "    </tr>\n",
       "  </thead>\n",
       "  <tbody>\n",
       "  </tbody>\n",
       "</table><p>"
      ],
      "text/plain": [
       "<IPython.core.display.HTML object>"
      ]
     },
     "metadata": {},
     "output_type": "display_data"
    }
   ],
   "source": [
    "trainer.train()"
   ]
  },
  {
   "cell_type": "code",
   "execution_count": null,
   "id": "82f4fee8-4925-4626-ade9-ea56f9911641",
   "metadata": {},
   "outputs": [],
   "source": []
  }
 ],
 "metadata": {
  "environment": {
   "kernel": "conda-base-py",
   "name": "workbench-notebooks.m121",
   "type": "gcloud",
   "uri": "us-docker.pkg.dev/deeplearning-platform-release/gcr.io/workbench-notebooks:m121"
  },
  "kernelspec": {
   "display_name": "Python 3 (ipykernel) (Local)",
   "language": "python",
   "name": "conda-base-py"
  },
  "language_info": {
   "codemirror_mode": {
    "name": "ipython",
    "version": 3
   },
   "file_extension": ".py",
   "mimetype": "text/x-python",
   "name": "python",
   "nbconvert_exporter": "python",
   "pygments_lexer": "ipython3",
   "version": "3.10.14"
  }
 },
 "nbformat": 4,
 "nbformat_minor": 5
}
