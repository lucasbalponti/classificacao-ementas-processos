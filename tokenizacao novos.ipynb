{
 "cells": [
  {
   "cell_type": "code",
   "execution_count": 25,
   "metadata": {},
   "outputs": [],
   "source": [
    "import pandas as pd\n",
    "import pickle\n",
    "from transformers import AutoTokenizer\n",
    "import numpy as np\n",
    "import matplotlib.pyplot as plt"
   ]
  },
  {
   "cell_type": "code",
   "execution_count": 2,
   "metadata": {},
   "outputs": [],
   "source": [
    "# Abrindo o objeto dataframe\n",
    "with open(r'df-novos-pre-processado.pickle', 'rb') as pickledfile:\n",
    "    df = pickle.load(pickledfile)"
   ]
  },
  {
   "cell_type": "code",
   "execution_count": 3,
   "metadata": {},
   "outputs": [],
   "source": [
    "# Iniciando um tokenizer pré-treinado para língua portuguesa: BERTimbal large\n",
    "tokenizer = AutoTokenizer.from_pretrained('neuralmind/bert-large-portuguese-cased')"
   ]
  },
  {
   "cell_type": "code",
   "execution_count": 4,
   "metadata": {},
   "outputs": [],
   "source": [
    "df['Tokenizadas'] = [tokenizer.encode(t) for t in df['Texto tratado']]"
   ]
  },
  {
   "cell_type": "code",
   "execution_count": 5,
   "metadata": {},
   "outputs": [
    {
     "data": {
      "text/html": [
       "<div>\n",
       "<style scoped>\n",
       "    .dataframe tbody tr th:only-of-type {\n",
       "        vertical-align: middle;\n",
       "    }\n",
       "\n",
       "    .dataframe tbody tr th {\n",
       "        vertical-align: top;\n",
       "    }\n",
       "\n",
       "    .dataframe thead th {\n",
       "        text-align: right;\n",
       "    }\n",
       "</style>\n",
       "<table border=\"1\" class=\"dataframe\">\n",
       "  <thead>\n",
       "    <tr style=\"text-align: right;\">\n",
       "      <th></th>\n",
       "      <th>Assunto</th>\n",
       "      <th>Texto original</th>\n",
       "      <th>Texto semi-tratado</th>\n",
       "      <th>Existe</th>\n",
       "      <th>Texto tratado</th>\n",
       "      <th>Tokenizadas</th>\n",
       "    </tr>\n",
       "  </thead>\n",
       "  <tbody>\n",
       "    <tr>\n",
       "      <th>0</th>\n",
       "      <td>Direito Tributário</td>\n",
       "      <td>\\n\\n\\t\\t\\t\\t\\t\\t\\t\\t\\t\\t\\t\\t\\tEmenta:\\n\\t\\t\\t\\...</td>\n",
       "      <td>EMBARGOS DE DECLARAÇÃO – Alegação de omissão e...</td>\n",
       "      <td>0</td>\n",
       "      <td>EMBARGOS DE DECLARAÇÃO – Alegação de omissão e...</td>\n",
       "      <td>[101, 192, 17166, 6765, 17807, 22308, 10836, 1...</td>\n",
       "    </tr>\n",
       "    <tr>\n",
       "      <th>1</th>\n",
       "      <td>Direito Tributário</td>\n",
       "      <td>\\nEmenta: APELAÇÃO –  Execução Fiscal –  Multa...</td>\n",
       "      <td>APELAÇÃO – Execução Fiscal – Multa Administrat...</td>\n",
       "      <td>0</td>\n",
       "      <td>APELAÇÃO – Execução Fiscal – Multa Administrat...</td>\n",
       "      <td>[101, 12127, 9008, 22301, 22402, 16484, 1379, ...</td>\n",
       "    </tr>\n",
       "    <tr>\n",
       "      <th>2</th>\n",
       "      <td>Direito Tributário</td>\n",
       "      <td>\\nEmenta: EMBARGOS DE DECLARAÇÃO\\r\\nAlegação d...</td>\n",
       "      <td>EMBARGOS DE DECLARAÇÃO Alegação de omissão – I...</td>\n",
       "      <td>0</td>\n",
       "      <td>EMBARGOS DE DECLARAÇÃO Alegação de omissão – I...</td>\n",
       "      <td>[101, 192, 17166, 6765, 17807, 22308, 10836, 1...</td>\n",
       "    </tr>\n",
       "    <tr>\n",
       "      <th>3</th>\n",
       "      <td>Direito Tributário</td>\n",
       "      <td>\\nEmenta: APELAÇÃO CÍVEL –  Mandado de Seguran...</td>\n",
       "      <td>APELAÇÃO CÍVEL – Mandado de Segurança – ITBI –...</td>\n",
       "      <td>0</td>\n",
       "      <td>APELAÇÃO CÍVEL – Mandado de Segurança – ITBI –...</td>\n",
       "      <td>[101, 12127, 9008, 22301, 22402, 16484, 187, 2...</td>\n",
       "    </tr>\n",
       "    <tr>\n",
       "      <th>4</th>\n",
       "      <td>Direito Tributário</td>\n",
       "      <td>\\nEmenta: AGRAVO DE INSTRUMENTO –  Execução fi...</td>\n",
       "      <td>AGRAVO DE INSTRUMENTO – Execução fiscal – Exce...</td>\n",
       "      <td>0</td>\n",
       "      <td>AGRAVO DE INSTRUMENTO – Execução fiscal – Exce...</td>\n",
       "      <td>[101, 177, 22328, 5650, 22339, 22317, 10836, 1...</td>\n",
       "    </tr>\n",
       "  </tbody>\n",
       "</table>\n",
       "</div>"
      ],
      "text/plain": [
       "              Assunto                                     Texto original  \\\n",
       "0  Direito Tributário  \\n\\n\\t\\t\\t\\t\\t\\t\\t\\t\\t\\t\\t\\t\\tEmenta:\\n\\t\\t\\t\\...   \n",
       "1  Direito Tributário  \\nEmenta: APELAÇÃO –  Execução Fiscal –  Multa...   \n",
       "2  Direito Tributário  \\nEmenta: EMBARGOS DE DECLARAÇÃO\\r\\nAlegação d...   \n",
       "3  Direito Tributário  \\nEmenta: APELAÇÃO CÍVEL –  Mandado de Seguran...   \n",
       "4  Direito Tributário  \\nEmenta: AGRAVO DE INSTRUMENTO –  Execução fi...   \n",
       "\n",
       "                                  Texto semi-tratado  Existe  \\\n",
       "0  EMBARGOS DE DECLARAÇÃO – Alegação de omissão e...       0   \n",
       "1  APELAÇÃO – Execução Fiscal – Multa Administrat...       0   \n",
       "2  EMBARGOS DE DECLARAÇÃO Alegação de omissão – I...       0   \n",
       "3  APELAÇÃO CÍVEL – Mandado de Segurança – ITBI –...       0   \n",
       "4  AGRAVO DE INSTRUMENTO – Execução fiscal – Exce...       0   \n",
       "\n",
       "                                       Texto tratado  \\\n",
       "0  EMBARGOS DE DECLARAÇÃO – Alegação de omissão e...   \n",
       "1  APELAÇÃO – Execução Fiscal – Multa Administrat...   \n",
       "2  EMBARGOS DE DECLARAÇÃO Alegação de omissão – I...   \n",
       "3  APELAÇÃO CÍVEL – Mandado de Segurança – ITBI –...   \n",
       "4  AGRAVO DE INSTRUMENTO – Execução fiscal – Exce...   \n",
       "\n",
       "                                         Tokenizadas  \n",
       "0  [101, 192, 17166, 6765, 17807, 22308, 10836, 1...  \n",
       "1  [101, 12127, 9008, 22301, 22402, 16484, 1379, ...  \n",
       "2  [101, 192, 17166, 6765, 17807, 22308, 10836, 1...  \n",
       "3  [101, 12127, 9008, 22301, 22402, 16484, 187, 2...  \n",
       "4  [101, 177, 22328, 5650, 22339, 22317, 10836, 1...  "
      ]
     },
     "execution_count": 5,
     "metadata": {},
     "output_type": "execute_result"
    }
   ],
   "source": [
    "df.head()"
   ]
  },
  {
   "cell_type": "code",
   "execution_count": 2,
   "metadata": {},
   "outputs": [],
   "source": [
    "# Abrindo o objeto dataframe\n",
    "with open(r'df-novos-tokenizado.pickle', 'rb') as pickledfile:\n",
    "    df = pickle.load(pickledfile)"
   ]
  },
  {
   "cell_type": "code",
   "execution_count": 10,
   "metadata": {},
   "outputs": [
    {
     "data": {
      "text/plain": [
       "99"
      ]
     },
     "execution_count": 10,
     "metadata": {},
     "output_type": "execute_result"
    }
   ],
   "source": [
    "len(df['Tokenizadas'][0]) - 1"
   ]
  },
  {
   "cell_type": "code",
   "execution_count": 12,
   "metadata": {},
   "outputs": [
    {
     "data": {
      "text/plain": [
       "83"
      ]
     },
     "execution_count": 12,
     "metadata": {},
     "output_type": "execute_result"
    }
   ],
   "source": [
    "len(np.unique(df['Tokenizadas'][0])) - 1"
   ]
  },
  {
   "cell_type": "code",
   "execution_count": 15,
   "metadata": {},
   "outputs": [],
   "source": [
    "unicos = np.unique(df['Assunto'])"
   ]
  },
  {
   "cell_type": "code",
   "execution_count": 16,
   "metadata": {},
   "outputs": [],
   "source": [
    "dict_minidx = {}\n",
    "for area in unicos:\n",
    "    dict_minidx.update(\n",
    "        {\n",
    "            area: 0\n",
    "        }\n",
    "    )"
   ]
  },
  {
   "cell_type": "code",
   "execution_count": 21,
   "metadata": {},
   "outputs": [],
   "source": [
    "id_categ = []\n",
    "n_tokens = []\n",
    "n_uniq_tokens = []\n",
    "\n",
    "for i in range(len(df)):\n",
    "    id_categ.append(dict_minidx[df['Assunto'][i]])\n",
    "    dict_minidx[df['Assunto'][i]] = dict_minidx[df['Assunto'][i]] + 1\n",
    "    n_tokens.append(len(df['Tokenizadas'][i]) - 1)\n",
    "    n_uniq_tokens.append(len(np.unique(df['Tokenizadas'][i])) - 1)\n",
    "\n",
    "df['id_categ'] = id_categ\n",
    "df['n_tokens'] = n_tokens\n",
    "df['n_uniq_tokens'] = n_uniq_tokens"
   ]
  },
  {
   "cell_type": "code",
   "execution_count": 40,
   "metadata": {},
   "outputs": [
    {
     "data": {
      "text/plain": [
       "147"
      ]
     },
     "execution_count": 40,
     "metadata": {},
     "output_type": "execute_result"
    }
   ],
   "source": [
    "n_tokens_sorted = n_tokens\n",
    "n_tokens_sorted.sort()\n",
    "n_tokens_sorted[len(n_tokens_sorted)//2 - 1]"
   ]
  },
  {
   "cell_type": "code",
   "execution_count": 41,
   "metadata": {},
   "outputs": [
    {
     "data": {
      "text/plain": [
       "104"
      ]
     },
     "execution_count": 41,
     "metadata": {},
     "output_type": "execute_result"
    }
   ],
   "source": [
    "n_uniq_tokens_sorted = n_uniq_tokens\n",
    "n_uniq_tokens_sorted.sort()\n",
    "n_uniq_tokens_sorted[len(n_uniq_tokens_sorted)//2 - 1]"
   ]
  },
  {
   "cell_type": "code",
   "execution_count": 39,
   "metadata": {},
   "outputs": [
    {
     "data": {
      "text/plain": [
       "147"
      ]
     },
     "execution_count": 39,
     "metadata": {},
     "output_type": "execute_result"
    }
   ],
   "source": [
    "n_tokens_sorted[len(n_tokens_sorted)//2 - 1]"
   ]
  },
  {
   "cell_type": "code",
   "execution_count": null,
   "metadata": {},
   "outputs": [],
   "source": []
  },
  {
   "cell_type": "code",
   "execution_count": 13,
   "metadata": {},
   "outputs": [
    {
     "data": {
      "text/html": [
       "<div>\n",
       "<style scoped>\n",
       "    .dataframe tbody tr th:only-of-type {\n",
       "        vertical-align: middle;\n",
       "    }\n",
       "\n",
       "    .dataframe tbody tr th {\n",
       "        vertical-align: top;\n",
       "    }\n",
       "\n",
       "    .dataframe thead th {\n",
       "        text-align: right;\n",
       "    }\n",
       "</style>\n",
       "<table border=\"1\" class=\"dataframe\">\n",
       "  <thead>\n",
       "    <tr style=\"text-align: right;\">\n",
       "      <th></th>\n",
       "      <th>Assunto</th>\n",
       "      <th>Texto original</th>\n",
       "      <th>Texto semi-tratado</th>\n",
       "      <th>Existe</th>\n",
       "      <th>Texto tratado</th>\n",
       "      <th>Tokenizadas</th>\n",
       "      <th>id_categ</th>\n",
       "    </tr>\n",
       "  </thead>\n",
       "  <tbody>\n",
       "    <tr>\n",
       "      <th>6711</th>\n",
       "      <td>Direito do Trabalho</td>\n",
       "      <td>\\nEmenta: ACIDENTE DO TRABALHO - PROVA TESTEMU...</td>\n",
       "      <td>ACIDENTE DO TRABALHO - PROVA TESTEMUNHAL - OIT...</td>\n",
       "      <td>0</td>\n",
       "      <td>ACIDENTE DO TRABALHO - PROVA TESTEMUNHAL - OIT...</td>\n",
       "      <td>[101, 11247, 6392, 12547, 16017, 15040, 267, 5...</td>\n",
       "      <td>395</td>\n",
       "    </tr>\n",
       "    <tr>\n",
       "      <th>6712</th>\n",
       "      <td>Direito do Trabalho</td>\n",
       "      <td>\\nEmenta: ACIDENTE DO TRABALHO - EXTINÇÃO DO F...</td>\n",
       "      <td>ACIDENTE DO TRABALHO - EXTINÇÃO DO FEITO - DES...</td>\n",
       "      <td>0</td>\n",
       "      <td>ACIDENTE DO TRABALHO - EXTINÇÃO DO FEITO - DES...</td>\n",
       "      <td>[101, 11247, 6392, 12547, 16017, 15040, 267, 5...</td>\n",
       "      <td>396</td>\n",
       "    </tr>\n",
       "    <tr>\n",
       "      <th>6713</th>\n",
       "      <td>Direito do Trabalho</td>\n",
       "      <td>\\nEmenta: ACIDENTE DO TRABALHO - AUXILIO-ACIDE...</td>\n",
       "      <td>ACIDENTE DO TRABALHO - AUXILIO-ACIDENTE - DOEN...</td>\n",
       "      <td>0</td>\n",
       "      <td>ACIDENTE DO TRABALHO - AUXILIO-ACIDENTE - DOEN...</td>\n",
       "      <td>[101, 11247, 6392, 12547, 16017, 15040, 267, 5...</td>\n",
       "      <td>397</td>\n",
       "    </tr>\n",
       "    <tr>\n",
       "      <th>6714</th>\n",
       "      <td>Direito do Trabalho</td>\n",
       "      <td>\\n\\n\\t\\t\\t\\t\\t\\t\\t\\t\\t\\t\\t\\t\\tEmenta:\\n\\t\\t\\t\\...</td>\n",
       "      <td>RECORRENTE Juízo \"Ex-Officio\" APELANTE Institu...</td>\n",
       "      <td>0</td>\n",
       "      <td>RECORRENTE Juízo \"Ex-Officio\" APELANTE Institu...</td>\n",
       "      <td>[101, 257, 5476, 8718, 7286, 8427, 22309, 1613...</td>\n",
       "      <td>398</td>\n",
       "    </tr>\n",
       "    <tr>\n",
       "      <th>6715</th>\n",
       "      <td>Direito do Trabalho</td>\n",
       "      <td>\\nEmenta: ACIDENTE DO TRABALHO - AUXILIO-ACIDE...</td>\n",
       "      <td>ACIDENTE DO TRABALHO - AUXILIO-ACIDENTE - DOEN...</td>\n",
       "      <td>0</td>\n",
       "      <td>ACIDENTE DO TRABALHO - AUXILIO-ACIDENTE - DOEN...</td>\n",
       "      <td>[101, 11247, 6392, 12547, 16017, 15040, 267, 5...</td>\n",
       "      <td>399</td>\n",
       "    </tr>\n",
       "  </tbody>\n",
       "</table>\n",
       "</div>"
      ],
      "text/plain": [
       "                  Assunto                                     Texto original  \\\n",
       "6711  Direito do Trabalho  \\nEmenta: ACIDENTE DO TRABALHO - PROVA TESTEMU...   \n",
       "6712  Direito do Trabalho  \\nEmenta: ACIDENTE DO TRABALHO - EXTINÇÃO DO F...   \n",
       "6713  Direito do Trabalho  \\nEmenta: ACIDENTE DO TRABALHO - AUXILIO-ACIDE...   \n",
       "6714  Direito do Trabalho  \\n\\n\\t\\t\\t\\t\\t\\t\\t\\t\\t\\t\\t\\t\\tEmenta:\\n\\t\\t\\t\\...   \n",
       "6715  Direito do Trabalho  \\nEmenta: ACIDENTE DO TRABALHO - AUXILIO-ACIDE...   \n",
       "\n",
       "                                     Texto semi-tratado  Existe  \\\n",
       "6711  ACIDENTE DO TRABALHO - PROVA TESTEMUNHAL - OIT...       0   \n",
       "6712  ACIDENTE DO TRABALHO - EXTINÇÃO DO FEITO - DES...       0   \n",
       "6713  ACIDENTE DO TRABALHO - AUXILIO-ACIDENTE - DOEN...       0   \n",
       "6714  RECORRENTE Juízo \"Ex-Officio\" APELANTE Institu...       0   \n",
       "6715  ACIDENTE DO TRABALHO - AUXILIO-ACIDENTE - DOEN...       0   \n",
       "\n",
       "                                          Texto tratado  \\\n",
       "6711  ACIDENTE DO TRABALHO - PROVA TESTEMUNHAL - OIT...   \n",
       "6712  ACIDENTE DO TRABALHO - EXTINÇÃO DO FEITO - DES...   \n",
       "6713  ACIDENTE DO TRABALHO - AUXILIO-ACIDENTE - DOEN...   \n",
       "6714  RECORRENTE Juízo \"Ex-Officio\" APELANTE Institu...   \n",
       "6715  ACIDENTE DO TRABALHO - AUXILIO-ACIDENTE - DOEN...   \n",
       "\n",
       "                                            Tokenizadas  id_categ  \n",
       "6711  [101, 11247, 6392, 12547, 16017, 15040, 267, 5...       395  \n",
       "6712  [101, 11247, 6392, 12547, 16017, 15040, 267, 5...       396  \n",
       "6713  [101, 11247, 6392, 12547, 16017, 15040, 267, 5...       397  \n",
       "6714  [101, 257, 5476, 8718, 7286, 8427, 22309, 1613...       398  \n",
       "6715  [101, 11247, 6392, 12547, 16017, 15040, 267, 5...       399  "
      ]
     },
     "execution_count": 13,
     "metadata": {},
     "output_type": "execute_result"
    }
   ],
   "source": [
    "df_400 = df.loc[df['id_categ']<=399]\n",
    "df_400.reset_index\n",
    "df_400.tail()"
   ]
  },
  {
   "cell_type": "code",
   "execution_count": 20,
   "metadata": {},
   "outputs": [],
   "source": [
    "# Salvando o objeto dataframe\n",
    "with open(r'df-novos-tokenizado.pickle', 'wb') as picklefile:\n",
    "    pickle.dump(df, picklefile, protocol=pickle.HIGHEST_PROTOCOL)"
   ]
  },
  {
   "cell_type": "code",
   "execution_count": 14,
   "metadata": {},
   "outputs": [],
   "source": [
    "# Salvando o objeto dataframe\n",
    "with open(r'df-novos400-tokenizado.pickle', 'wb') as picklefile:\n",
    "    pickle.dump(df, picklefile, protocol=pickle.HIGHEST_PROTOCOL)"
   ]
  }
 ],
 "metadata": {
  "kernelspec": {
   "display_name": "Python 3",
   "language": "python",
   "name": "python3"
  },
  "language_info": {
   "codemirror_mode": {
    "name": "ipython",
    "version": 3
   },
   "file_extension": ".py",
   "mimetype": "text/x-python",
   "name": "python",
   "nbconvert_exporter": "python",
   "pygments_lexer": "ipython3",
   "version": "3.11.3"
  }
 },
 "nbformat": 4,
 "nbformat_minor": 2
}
