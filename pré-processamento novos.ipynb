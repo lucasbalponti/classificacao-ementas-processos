{
 "cells": [
  {
   "cell_type": "code",
   "execution_count": 1,
   "metadata": {},
   "outputs": [],
   "source": [
    "import pandas as pd\n",
    "import progressbar\n",
    "import csv\n",
    "import re\n",
    "import pickle\n",
    "import ftfy"
   ]
  },
  {
   "cell_type": "code",
   "execution_count": 2,
   "metadata": {},
   "outputs": [],
   "source": [
    "df = pd.read_csv(r'ementas_novas.csv').set_index('Unnamed: 0')\n",
    "df.index.name = None"
   ]
  },
  {
   "cell_type": "code",
   "execution_count": 3,
   "metadata": {},
   "outputs": [
    {
     "data": {
      "text/plain": [
       "11380"
      ]
     },
     "execution_count": 3,
     "metadata": {},
     "output_type": "execute_result"
    }
   ],
   "source": [
    "len(df)"
   ]
  },
  {
   "cell_type": "code",
   "execution_count": 4,
   "metadata": {},
   "outputs": [],
   "source": [
    "# Removendo linhas duplicadas\n",
    "df.drop_duplicates(inplace=True)\n",
    "df.reset_index(inplace=True, drop=True)"
   ]
  },
  {
   "cell_type": "code",
   "execution_count": 5,
   "metadata": {},
   "outputs": [
    {
     "data": {
      "text/plain": [
       "8383"
      ]
     },
     "execution_count": 5,
     "metadata": {},
     "output_type": "execute_result"
    }
   ],
   "source": [
    "len(df)"
   ]
  },
  {
   "cell_type": "code",
   "execution_count": 6,
   "metadata": {},
   "outputs": [
    {
     "name": "stderr",
     "output_type": "stream",
     "text": [
      " [Elapsed Time: 0:00:00] |                                  | (ETA:  --:--:--) \r"
     ]
    },
    {
     "name": "stderr",
     "output_type": "stream",
     "text": [
      " [Elapsed Time: 0:00:25] |********************************** | (ETA:  0:00:00) \r"
     ]
    }
   ],
   "source": [
    "# Tratando o texto\n",
    "widgets = [' [',\n",
    "         progressbar.Timer(),\n",
    "         '] ',\n",
    "           progressbar.Bar('*'),' (',\n",
    "           progressbar.ETA(), ') ',\n",
    "          ]\n",
    "bar = progressbar.ProgressBar(maxval = len(df), widgets=widgets).start()\n",
    "\n",
    "for linha in range(len(df)):\n",
    "\n",
    "    # Removendo possíveis erros de encoding\n",
    "    df.loc[linha, 'Texto tratado'] = ftfy.fix_text(df['Texto semi-tratado'][linha])\n",
    "\n",
    "    # Removendo espaços duplos\n",
    "    df.loc[linha, 'Texto tratado'] = re.sub(r'\\s\\s+', ' ', df['Texto tratado'][linha]).strip()\n",
    "\n",
    "    # Corrigindo pontos com espaçamento extra\n",
    "    df.loc[linha, 'Texto tratado'] = re.sub(r'\\s\\.\\s', '. ', df['Texto tratado'][linha])\n",
    "\n",
    "    # Substituindo abreviações, seguindo o Código Civil Comentado de Nelson Júnior\n",
    "    # JÚNIOR, Nelson; NERY, Rosa. Abreviaturas In: JÚNIOR, Nelson; NERY, Rosa. Código Civil Comentado. São Paulo (SP):Editora Revista dos Tribunais. 2014. Disponível em: https://www.jusbrasil.com.br/doutrina/codigo-civil-comentado/1499795013. Acesso em: 8 de Junho de 2024.\n",
    "    df.loc[linha, 'Texto tratado'] = re.sub(r'câm\\.civ\\.', 'Câmara Cível', df['Texto tratado'][linha], flags=re.IGNORECASE)\n",
    "    df.loc[linha, 'Texto tratado'] = re.sub(r'câm\\.crim\\.', 'Câmara Criminal', df['Texto tratado'][linha], flags=re.IGNORECASE)\n",
    "    df.loc[linha, 'Texto tratado'] = re.sub(r'câm\\.dir\\.emp\\.', 'Câmara Especial de Direito Empresarial', df['Texto tratado'][linha], flags=re.IGNORECASE)\n",
    "    df.loc[linha, 'Texto tratado'] = re.sub(r'câmdpriv\\.', 'Câmara de Direito Privado', df['Texto tratado'][linha], flags=re.IGNORECASE)\n",
    "    df.loc[linha, 'Texto tratado'] = re.sub(r'câm\\.dir\\.púb\\.', 'Câmara de Direito Público', df['Texto tratado'][linha], flags=re.IGNORECASE)\n",
    "    df.loc[linha, 'Texto tratado'] = re.sub(r'câm\\.esp\\.', 'Câmara Especial', df['Texto tratado'][linha], flags=re.IGNORECASE)\n",
    "    df.loc[linha, 'Texto tratado'] = re.sub(r'const\\.', 'Constituição', df['Texto tratado'][linha], flags=re.IGNORECASE)\n",
    "    df.loc[linha, 'Texto tratado'] = re.sub(r'câm\\.', 'Câmara', df['Texto tratado'][linha], flags=re.IGNORECASE)\n",
    "    df.loc[linha, 'Texto tratado'] = re.sub(r'cap\\.', 'capítulo', df['Texto tratado'][linha], flags=re.IGNORECASE)\n",
    "    df.loc[linha, 'Texto tratado'] = re.sub(r'art\\.', 'artigo', df['Texto tratado'][linha], flags=re.IGNORECASE)\n",
    "    df.loc[linha, 'Texto tratado'] = re.sub(r'ac\\.', 'acórdão', df['Texto tratado'][linha], flags=re.IGNORECASE)\n",
    "    df.loc[linha, 'Texto tratado'] = re.sub(r'cf\\.', 'conforme', df['Texto tratado'][linha], flags=re.IGNORECASE)\n",
    "\n",
    "    bar.update(linha)"
   ]
  },
  {
   "cell_type": "code",
   "execution_count": 7,
   "metadata": {},
   "outputs": [],
   "source": [
    "# Removendo linhas que possívelmente contem typos ao verificar por caracteres indesejáveis\n",
    "pattern = re.compile(r'[\\^~´`]|ç\\s|ç[0-9]|\\sb\\s|\\sf\\s|\\sg\\s|\\sj\\s|\\sq\\s|\\sr\\s|\\st\\s|\\sv\\s|\\sw\\s|\\sy\\s|\\sz\\s', re.IGNORECASE)\n",
    "\n",
    "filter = pd.Series([bool(pattern.findall(df['Texto tratado'][i])) for i in range(len(df))])"
   ]
  },
  {
   "cell_type": "code",
   "execution_count": 8,
   "metadata": {},
   "outputs": [],
   "source": [
    "df = df[~filter]"
   ]
  },
  {
   "cell_type": "code",
   "execution_count": 9,
   "metadata": {},
   "outputs": [],
   "source": [
    "df.reset_index(inplace=True, drop=True)"
   ]
  },
  {
   "cell_type": "code",
   "execution_count": 10,
   "metadata": {},
   "outputs": [
    {
     "data": {
      "text/plain": [
       "7897"
      ]
     },
     "execution_count": 10,
     "metadata": {},
     "output_type": "execute_result"
    }
   ],
   "source": [
    "len(df)"
   ]
  },
  {
   "cell_type": "code",
   "execution_count": 11,
   "metadata": {},
   "outputs": [
    {
     "data": {
      "text/plain": [
       "Assunto\n",
       "Direito Civil             1312\n",
       "Direito Penal              918\n",
       "Direito Previdenciário    2076\n",
       "Direito Tributário        2700\n",
       "Direito do Trabalho        891\n",
       "Name: Texto tratado, dtype: int64"
      ]
     },
     "execution_count": 11,
     "metadata": {},
     "output_type": "execute_result"
    }
   ],
   "source": [
    "df.groupby('Assunto').count()['Texto tratado']"
   ]
  },
  {
   "cell_type": "code",
   "execution_count": 12,
   "metadata": {},
   "outputs": [],
   "source": [
    "# Salvando o objeto dataframe\n",
    "with open(r'df-novos-pre-processado.pickle', 'wb') as picklefile:\n",
    "    pickle.dump(df, picklefile, protocol=pickle.HIGHEST_PROTOCOL)"
   ]
  }
 ],
 "metadata": {
  "kernelspec": {
   "display_name": "Python 3",
   "language": "python",
   "name": "python3"
  },
  "language_info": {
   "codemirror_mode": {
    "name": "ipython",
    "version": 3
   },
   "file_extension": ".py",
   "mimetype": "text/x-python",
   "name": "python",
   "nbconvert_exporter": "python",
   "pygments_lexer": "ipython3",
   "version": "3.11.3"
  }
 },
 "nbformat": 4,
 "nbformat_minor": 2
}
