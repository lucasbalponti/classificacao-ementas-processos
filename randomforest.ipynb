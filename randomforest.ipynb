{
 "cells": [
  {
   "cell_type": "code",
   "execution_count": 1,
   "metadata": {},
   "outputs": [],
   "source": [
    "import pandas as pd\n",
    "\n",
    "import pickle\n",
    "\n",
    "from sklearn.ensemble import RandomForestClassifier\n",
    "from sklearn.model_selection import StratifiedKFold\n",
    "from sklearn.model_selection import cross_validate\n",
    "from sklearn.preprocessing import LabelEncoder"
   ]
  },
  {
   "cell_type": "code",
   "execution_count": 2,
   "metadata": {},
   "outputs": [],
   "source": [
    "# Abrindo o objeto dataframe\n",
    "with open(r'df-codificado.pickle', 'rb') as pickledfile:\n",
    "    df = pickle.load(pickledfile)"
   ]
  },
  {
   "cell_type": "code",
   "execution_count": 3,
   "metadata": {},
   "outputs": [
    {
     "name": "stderr",
     "output_type": "stream",
     "text": [
      "c:\\Users\\Lucas Alponti\\AppData\\Local\\Programs\\Python\\Python311\\Lib\\site-packages\\sklearn\\preprocessing\\_label.py:114: DataConversionWarning: A column-vector y was passed when a 1d array was expected. Please change the shape of y to (n_samples, ), for example using ravel().\n",
      "  y = column_or_1d(y, warn=True)\n"
     ]
    }
   ],
   "source": [
    "y = LabelEncoder().fit_transform(X = df['Assunto'].values.reshape(-1,1))"
   ]
  },
  {
   "cell_type": "code",
   "execution_count": 6,
   "metadata": {},
   "outputs": [],
   "source": [
    "# Abrindo o bag-of-words\n",
    "with open(r'bow.pickle', 'rb') as pickledfile:\n",
    "    x = pickle.load(pickledfile)"
   ]
  },
  {
   "cell_type": "code",
   "execution_count": 15,
   "metadata": {},
   "outputs": [],
   "source": [
    "model = RandomForestClassifier()\n",
    "cv = StratifiedKFold(n_splits = 10)\n",
    "result = cross_validate(model, x, y, cv = cv, return_estimator=True, return_train_score=True)"
   ]
  },
  {
   "cell_type": "code",
   "execution_count": 16,
   "metadata": {},
   "outputs": [
    {
     "data": {
      "text/plain": [
       "{'fit_time': array([809.31716967, 755.54001474, 775.33718395, 775.72851467,\n",
       "        808.54982686, 792.01552534, 787.40804529, 774.25614858,\n",
       "        744.84567404, 785.46699023]),\n",
       " 'score_time': array([11.29275179, 11.10722494, 11.09892225, 10.61786509, 10.70986724,\n",
       "        10.9108572 , 10.29583907, 10.68187094, 10.3858459 , 10.412848  ]),\n",
       " 'estimator': [RandomForestClassifier(),\n",
       "  RandomForestClassifier(),\n",
       "  RandomForestClassifier(),\n",
       "  RandomForestClassifier(),\n",
       "  RandomForestClassifier(),\n",
       "  RandomForestClassifier(),\n",
       "  RandomForestClassifier(),\n",
       "  RandomForestClassifier(),\n",
       "  RandomForestClassifier(),\n",
       "  RandomForestClassifier()],\n",
       " 'test_score': array([0.80153378, 0.83908502, 0.84966283, 0.8769007 , 0.94182203,\n",
       "        0.93203755, 0.93428534, 0.86275288, 0.75247917, 0.83670501]),\n",
       " 'train_score': array([0.99753184, 0.99665036, 0.99669443, 0.99667974, 0.99615085,\n",
       "        0.99616554, 0.99609209, 0.99663567, 0.99739962, 0.99651814])}"
      ]
     },
     "execution_count": 16,
     "metadata": {},
     "output_type": "execute_result"
    }
   ],
   "source": [
    "result"
   ]
  },
  {
   "cell_type": "code",
   "execution_count": 23,
   "metadata": {},
   "outputs": [],
   "source": [
    "# Salvando o resultado do random-forest com bow\n",
    "with open(r'random-forest-bow.pickle', 'wb') as pickledfile:\n",
    "    pickle.dump(result, pickledfile, protocol=pickle.HIGHEST_PROTOCOL)"
   ]
  },
  {
   "cell_type": "code",
   "execution_count": 4,
   "metadata": {},
   "outputs": [],
   "source": [
    "# Abrindo o tf-idf\n",
    "with open(r'tfidf.pickle', 'rb') as pickledfile:\n",
    "    x2 = pickle.load(pickledfile)"
   ]
  },
  {
   "cell_type": "code",
   "execution_count": 5,
   "metadata": {},
   "outputs": [],
   "source": [
    "model2 = RandomForestClassifier()\n",
    "cv2 = StratifiedKFold(n_splits = 10)\n",
    "result2 = cross_validate(model2, x2, y, cv = cv2, return_estimator=True, return_train_score=True)"
   ]
  },
  {
   "cell_type": "code",
   "execution_count": 6,
   "metadata": {},
   "outputs": [
    {
     "data": {
      "text/plain": [
       "{'fit_time': array([967.43807101, 785.01799035, 789.53803682, 830.43593884,\n",
       "        834.32326269, 812.32375121, 862.92664886, 866.80971766,\n",
       "        846.82298827, 810.53587508]),\n",
       " 'score_time': array([2.96615481, 2.95326281, 3.20907474, 2.88188934, 3.19067645,\n",
       "        2.66003966, 2.67481351, 2.02461958, 3.60629368, 2.57268906]),\n",
       " 'estimator': [RandomForestClassifier(),\n",
       "  RandomForestClassifier(),\n",
       "  RandomForestClassifier(),\n",
       "  RandomForestClassifier(),\n",
       "  RandomForestClassifier(),\n",
       "  RandomForestClassifier(),\n",
       "  RandomForestClassifier(),\n",
       "  RandomForestClassifier(),\n",
       "  RandomForestClassifier(),\n",
       "  RandomForestClassifier()],\n",
       " 'test_score': array([0.79293931, 0.82837498, 0.84728282, 0.87266958, 0.94023536,\n",
       "        0.92674864, 0.93296311, 0.86209176, 0.7508925 , 0.83577945]),\n",
       " 'train_score': array([0.99753184, 0.99663567, 0.99669443, 0.99667974, 0.99613616,\n",
       "        0.99616554, 0.99609209, 0.99663567, 0.99739962, 0.99651814])}"
      ]
     },
     "execution_count": 6,
     "metadata": {},
     "output_type": "execute_result"
    }
   ],
   "source": [
    "result2"
   ]
  },
  {
   "cell_type": "code",
   "execution_count": 8,
   "metadata": {},
   "outputs": [],
   "source": [
    "# Salvando o resultado do random-forest com tfidf\n",
    "with open(r'random-forest-tfidf.pickle', 'wb') as pickledfile:\n",
    "    pickle.dump(result2, pickledfile, protocol=pickle.HIGHEST_PROTOCOL)"
   ]
  }
 ],
 "metadata": {
  "kernelspec": {
   "display_name": "Python 3",
   "language": "python",
   "name": "python3"
  },
  "language_info": {
   "codemirror_mode": {
    "name": "ipython",
    "version": 3
   },
   "file_extension": ".py",
   "mimetype": "text/x-python",
   "name": "python",
   "nbconvert_exporter": "python",
   "pygments_lexer": "ipython3",
   "version": "3.11.3"
  }
 },
 "nbformat": 4,
 "nbformat_minor": 2
}
